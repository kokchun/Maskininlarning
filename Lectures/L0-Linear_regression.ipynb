{
 "cells": [
  {
   "cell_type": "markdown",
   "metadata": {},
   "source": [
    "\n",
    "<a href=\"https://colab.research.google.com/github/kokchun/Maskininlarning-AI21/blob/main/Lectures/L0-Linear_regression.ipynb\" target=\"_parent\"><img align=\"left\" src=\"https://colab.research.google.com/assets/colab-badge.svg\" alt=\"Open In Colab\"/></a> &nbsp; for interacting with the code"
   ]
  },
  {
   "cell_type": "markdown",
   "metadata": {},
   "source": [
    "---\n",
    "# Lecture notes - Linear regression\n",
    "\n",
    "---\n",
    "This is the lecture note for **linear regression**\n",
    "\n",
    "<p class = \"alert alert-info\" role=\"alert\"><b>Note</b> that this lecture note gives a brief introduction to linear regression. I encourage you to read further about linear regression.\n",
    "\n",
    "Read more \n",
    "\n",
    "- [ISLRv2 pp 59-82](https://www.statlearning.com/)\n",
    "- [Numpy polyfit](https://numpy.org/doc/stable/reference/generated/numpy.polyfit.html)\n",
    "- [Seaborn regplot](https://seaborn.pydata.org/generated/seaborn.regplot.html)\n",
    "\n",
    "---"
   ]
  },
  {
   "cell_type": "markdown",
   "metadata": {},
   "source": [
    "## Case \n",
    "\n",
    "There is a company which spends money on advertisement for different media channels: TV, radio and newspaper.  \n",
    "\n",
    "**Task:**\n",
    "\n",
    "- suggest marketing plan to increase sales units\n",
    "\n",
    "This task is broad and can be broken down into the following subquestions\n",
    "1. Relationship between ads and sales?\n",
    "2. How strong relationship between ads and sales?\n",
    "3. Which media associated with sales?\n",
    "4. How large is the association between each ad and sale?\n",
    "5. How accurate can we predict future sales? \n",
    "6. Relationship linear?\n",
    "7. Synergy interacction among ad media?"
   ]
  },
  {
   "cell_type": "markdown",
   "metadata": {},
   "source": [
    "---\n",
    "## Initial EDA - Exploratory Data Analysis\n",
    "\n",
    "The dataset for this lecture comes from ISLR - Introduction to Statistical Learning. The dataset used is [Advertising.csv](https://www.kaggle.com/ishaanv/ISLR-Auto)\n",
    "\n",
    "Units: \n",
    "- TV, radio, newspaper - thousands dollars\n",
    "- Sales - thousands units"
   ]
  },
  {
   "cell_type": "code",
   "execution_count": 1,
   "metadata": {},
   "outputs": [],
   "source": [
    "import pandas as pd\n",
    "import seaborn as sns\n",
    "import matplotlib.pyplot as plt\n",
    "import numpy as np\n",
    "\n",
    "plt.style.use(\"seaborn-white\")\n",
    "\n",
    "df = pd.read_csv(\"Data/Advertising.csv\", index_col=0)\n",
    "df.head()\n"
   ]
  },
  {
   "cell_type": "code",
   "execution_count": null,
   "metadata": {},
   "outputs": [],
   "source": [
    "df.info()"
   ]
  },
  {
   "cell_type": "code",
   "execution_count": null,
   "metadata": {},
   "outputs": [],
   "source": [
    "df.describe()"
   ]
  },
  {
   "cell_type": "code",
   "execution_count": null,
   "metadata": {},
   "outputs": [],
   "source": [
    "number_features = df.shape[1] - 1\n",
    "fig, ax = plt.subplots(1, number_features, figsize=(8, 3), dpi=100)\n",
    "\n",
    "for i, feature in enumerate(df.columns[:-1]):\n",
    "    sns.scatterplot(data=df, x=feature, y=\"Sales\", ax=ax[i])\n",
    "    ax[i].set(xlabel=\"Spending\", title=f\"{feature} spendings\")\n",
    "\n",
    "fig.tight_layout()\n"
   ]
  },
  {
   "cell_type": "code",
   "execution_count": null,
   "metadata": {},
   "outputs": [],
   "source": [
    "# plot pairwise relationships in a df\n",
    "ax = sns.pairplot(df, corner=True, height=2)\n",
    "# set corner to True as upper right mirrors the corner, this saves computations\n"
   ]
  },
  {
   "cell_type": "markdown",
   "metadata": {},
   "source": [
    "--- \n",
    "## Simple linear regression\n",
    "\n",
    "Equation for linear regression for one predictor variable is\n",
    "$y \\approx \\beta_0 + \\beta_1X$, \n",
    "\n",
    "where $X$ is the predictor variable, $y$ is the response variable, $\\beta_0$ is intercept and $\\beta_1$ is slope. $\\beta_0$ and $\\beta_1$ are unknown parameters that needs to be estimated with the data points $(x_1, y_1), (x_2, y_2), \\ldots, (x_n,y_n)$.\n",
    "\n",
    "Example: \n",
    "\n",
    "- $y$ - sales \n",
    "- $X$ - TV spending as it looks to fit a line more than the others, through visually inspecting the scatterplots\n",
    "\n",
    "We use the data points to get a sample estimate $\\hat{\\beta}_0$, $\\hat{\\beta}_1$, by using least squares estimate, which is the most common method. Then we get the prediction of $y$ as $\\hat{y} = \\hat{\\beta}_0+\\hat{\\beta}_1x$, which is a line that is as close as possible to the data points."
   ]
  },
  {
   "cell_type": "code",
   "execution_count": null,
   "metadata": {},
   "outputs": [],
   "source": [
    "X, y = df[\"TV\"], df[\"Sales\"]\n",
    "# fits a polynomial of degree deg using least squares polynomial fit\n",
    "beta_1, beta_0 = np.polyfit(X, y, deg=1)  # returns coefficient with highest power first\n",
    "\n",
    "# predicted y, note that beta_0 and beta_1 are actually beta_0, beta_1 hats as they are sample estimates\n",
    "\n",
    "\n",
    "y_hat = lambda x: beta_0 + beta_1 * x\n",
    "\n",
    "print(f\"Intercept beta_0 hat: {beta_0:.4f}\")\n",
    "print(f\"Slope beta_1 hat: {beta_1:.4f}\")  # spend $1000 gives 47.5 extra sold units\n",
    "\n",
    "spend = np.linspace(0, 350)\n",
    "\n",
    "fig, ax = plt.figure(figsize=(5, 3), dpi=100), plt.axes()\n",
    "\n",
    "sns.scatterplot(data=df, x=\"TV\", y=\"Sales\")\n",
    "sns.lineplot(x=spend, y=y_hat(spend), color=\"red\")\n",
    "\n",
    "ax.set(\n",
    "    title=\"TV advertisement linear regression\",\n",
    "    xlabel=\"Thousands dollars\",\n",
    "    ylabel=\"Sales thousands units\",\n",
    ");\n"
   ]
  },
  {
   "cell_type": "code",
   "execution_count": null,
   "metadata": {},
   "outputs": [],
   "source": [
    "# regression line using seaborn regplot\n",
    "sns.regplot(x=X,y=y); "
   ]
  },
  {
   "cell_type": "markdown",
   "metadata": {},
   "source": [
    "---\n",
    "## Multiple linear regression\n",
    "\n",
    "We used numpy polyfit to estimate $\\beta_0, \\beta_1$ from the TV-feature alone. polyfit requires 1D vector, but we want to use all the features (TV, radio, newspaper) for prediction, i.e. we want to use more explanatory variables. One way is to manually solve for $\\hat{\\bm{\\beta}} = (\\bm{X}^T\\bm{X})^{-1}\\bm{X}^T\\bm{y}$ as we did [linear algebra course](https://github.com/kokchun/Linjar-algebra-21/blob/main/Lectures/Lec6-Matrix/Linear_regression.ipynb), but now we add more features which is simply more columns.\n",
    "\n",
    "where $\\bm{X} = \t\\begin{bmatrix} \n",
    "\t1 & x_1^{(1)} & x_2^{(1)}& \\ldots &x_n^{(1)} \\\\\n",
    "\t1 & x_1^{(2)} & x_2^{(2)}& \\ldots &x_n^{(2)}\\\\\n",
    "\t\\vdots & \\vdots & \\vdots & \\ddots & \\vdots\\\\\n",
    "\t1 & x_1^{(m)}& x_2^{(m)}& \\ldots &x_n^{(m)}\n",
    "\\end{bmatrix}, \\bm{y} = \\begin{bmatrix} \n",
    "y_1 \\\\ y_2 \\\\ \\vdots \\\\ y_m\n",
    "\\end{bmatrix}, \\hat{\\bm{\\beta}} = \\begin{bmatrix} \n",
    "\\hat\\beta_0 \\\\\\hat\\beta_1\\\\ \\vdots \\\\ \\hat\\beta_n\n",
    "\\end{bmatrix}$\n",
    "\n",
    "In our example we have $n = 3$ features, $m = 200$ samples, which gives us the regression coefficients $\\hat\\beta_0, \\hat\\beta_1, \\hat\\beta_2, \\hat\\beta_3$.\n",
    "\n",
    "The regression line is $y = \\hat\\beta_0 + \\hat\\beta_1x_1 + \\hat\\beta_2x_2 + \\hat\\beta_3x_3$. With this equation we can predict the sale for a new sample $i$ by $y^{(i)} = \\hat\\beta_0 + \\hat\\beta_1x_1^{(i)} + \\hat\\beta_2x_2^{(i)} + \\hat\\beta_3x_3^{(i)}$\n"
   ]
  },
  {
   "cell_type": "code",
   "execution_count": null,
   "metadata": {},
   "outputs": [],
   "source": []
  },
  {
   "cell_type": "markdown",
   "metadata": {},
   "source": [
    "---\n",
    "\n",
    "Kokchun Giang\n",
    "\n",
    "[LinkedIn][linkedIn_kokchun]\n",
    "\n",
    "[GitHub portfolio][github_portfolio]\n",
    "\n",
    "[linkedIn_kokchun]: https://www.linkedin.com/in/kokchungiang/\n",
    "[github_portfolio]: https://github.com/kokchun/Portfolio-Kokchun-Giang\n",
    "\n",
    "---"
   ]
  }
 ],
 "metadata": {
  "interpreter": {
   "hash": "89ed53b8d5edeb9e9b1a5c68a88e01bddebf013b1d58906f2d3c0a56d645ebae"
  },
  "kernelspec": {
   "display_name": "Python 3.9.7 64-bit ('Databehandling-lIz8p_xq': pipenv)",
   "name": "python3"
  },
  "language_info": {
   "codemirror_mode": {
    "name": "ipython",
    "version": 3
   },
   "file_extension": ".py",
   "mimetype": "text/x-python",
   "name": "python",
   "nbconvert_exporter": "python",
   "pygments_lexer": "ipython3",
   "version": "3.10.1"
  },
  "orig_nbformat": 4
 },
 "nbformat": 4,
 "nbformat_minor": 2
}
